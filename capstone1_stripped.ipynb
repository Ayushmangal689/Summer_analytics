{
 "cells": [
  {
   "cell_type": "code",
   "execution_count": null,
   "metadata": {
    "colab": {
     "base_uri": "https://localhost:8080/"
    },
    "id": "jqNMchxqBcPM",
    "outputId": "c3cfbf52-2c35-4100-e17d-7dfa35607db9"
   },
   "outputs": [],
   "source": [
    "pip install pathway #Installing pathway"
   ]
  },
  {
   "cell_type": "code",
   "execution_count": null,
   "metadata": {
    "id": "LDjsixMPrxac"
   },
   "outputs": [],
   "source": [
    "#Importing necessary libraries\n",
    "import pandas as pd\n",
    "import numpy as np\n",
    "import itertools\n",
    "import bokeh.plotting\n",
    "import panel as pn"
   ]
  },
  {
   "cell_type": "code",
   "execution_count": null,
   "metadata": {
    "id": "p7Rp3c75Bv8t"
   },
   "outputs": [],
   "source": [
    "import pathway as pw #Import pathway"
   ]
  },
  {
   "cell_type": "code",
   "execution_count": null,
   "metadata": {
    "id": "knSFDyjVxAnh"
   },
   "outputs": [],
   "source": [
    "# Read dataset\n",
    "df = pd.read_csv('dataset.csv')"
   ]
  },
  {
   "cell_type": "code",
   "execution_count": null,
   "metadata": {
    "colab": {
     "base_uri": "https://localhost:8080/",
     "height": 226
    },
    "id": "grxDBSl6xHIs",
    "outputId": "45395375-38d3-4b15-8b4d-f4435da07550"
   },
   "outputs": [],
   "source": [
    "# Printing the first five rows of the dataset\n",
    "df.head()"
   ]
  },
  {
   "cell_type": "code",
   "execution_count": null,
   "metadata": {
    "colab": {
     "base_uri": "https://localhost:8080/"
    },
    "id": "5WSVKSVvxXYs",
    "outputId": "dd549bf7-071f-43e4-8e8b-87084dd278b7"
   },
   "outputs": [],
   "source": [
    "df.shape"
   ]
  },
  {
   "cell_type": "code",
   "execution_count": null,
   "metadata": {
    "colab": {
     "base_uri": "https://localhost:8080/",
     "height": 399
    },
    "id": "szt2jnmm4zbN",
    "outputId": "57f77b33-ff2c-46d4-8c35-c0f80ac50029"
   },
   "outputs": [],
   "source": [
    "# Combine 'LastUpdatedDate' and 'LastUpdatedTime' columns, convert to datetime, and store in new column 'Timestamp'\n",
    "df['Timestamp'] = pd.to_datetime(df['LastUpdatedDate'] + ' ' + df['LastUpdatedTime'], format='%d-%m-%Y %H:%M:%S')\n",
    "\n",
    "# Sort the DataFrame by the 'Timestamp' column in ascending order and reset index\n",
    "df = df.sort_values('Timestamp').reset_index(drop=True)\n",
    "\n",
    "df.head()"
   ]
  },
  {
   "cell_type": "code",
   "execution_count": null,
   "metadata": {
    "id": "SrykeHVIIQee"
   },
   "outputs": [],
   "source": [
    "# Save selected columns to a CSV file named 'parking_stream.csv' without writing the index\n",
    "df[[\"SystemCodeNumber\",\"Timestamp\", \"Occupancy\", \"Capacity\"]].to_csv(\"parking_stream.csv\", index=False)"
   ]
  },
  {
   "cell_type": "code",
   "execution_count": null,
   "metadata": {
    "id": "mRtPJ9ii5W3H"
   },
   "outputs": [],
   "source": [
    "class ParkingSchema(pw.Schema):\n",
    "    Timestamp: str   # Timestamp of the observation (should ideally be in ISO format)\n",
    "    Occupancy: int   # Number of occupied parking spots\n",
    "    Capacity: int    # Total parking capacity at the location\n",
    "    SystemCodeNumber: str  # Unique identifier for the parking location\n"
   ]
  },
  {
   "cell_type": "code",
   "execution_count": null,
   "metadata": {
    "id": "N01Aoir25bxm"
   },
   "outputs": [],
   "source": [
    "# Load data from 'parking_stream.csv' as a simulated data stream with given schema and input rate\n",
    "# 'schema' defines the structure of the data; 'input_rate=1000' simulates 1000 rows per second\n",
    "data = pw.demo.replay_csv(\"parking_stream.csv\", schema=ParkingSchema, input_rate=1000)"
   ]
  },
  {
   "cell_type": "code",
   "execution_count": null,
   "metadata": {
    "id": "6FgJnu-85epm"
   },
   "outputs": [],
   "source": [
    "# Define the datetime format to parse the 'Timestamp' column\n",
    "fmt = \"%Y-%m-%d %H:%M:%S\"\n",
    "\n",
    "# Add new columns to the data stream:\n",
    "# - 't' contains the parsed full datetime\n",
    "# - 'day' extracts the date part and resets the time to midnight (useful for day-level aggregations)\n",
    "data_with_time = data.with_columns(\n",
    "    t = data.Timestamp.dt.strptime(fmt),\n",
    "    day = data.Timestamp.dt.strptime(fmt).dt.strftime(\"%Y-%m-%dT00:00:00\"),\n",
    "    lot = data.SystemCodeNumber\n",
    ")\n",
    "\n"
   ]
  },
  {
   "cell_type": "code",
   "execution_count": null,
   "metadata": {
    "id": "9esZrP0uKx_L"
   },
   "outputs": [],
   "source": [
    "import datetime\n",
    "import pathway as pw\n",
    "\n",
    "# Define a user-defined function (UDF) to calculate price using logistic function\n",
    "@pw.udf\n",
    "def logistic_price(occupancy: float) -> float:\n",
    "    # Hardcode constants here\n",
    "    min_price = 10   # Set minimum price\n",
    "    max_price = 15   #Set maximum price\n",
    "    k = 10.0  #Steepness of the curve\n",
    "\n",
    "    if occupancy is None:\n",
    "        return None\n",
    "\n",
    "    # Logistic pricing formula based on normalized occupancy\n",
    "    return min_price + (max_price - min_price) / (1 + pow(2.71828, -k * (occupancy - 0.5)))\n",
    "\n",
    "# Define a daily tumbling window for aggregating streaming data\n",
    "delta_window = (\n",
    "    data_with_time.windowby(\n",
    "        pw.this.t,  # Timestamp column for windowing\n",
    "        instance=pw.this.day,  # Create separate windows per day\n",
    "        window=pw.temporal.tumbling(datetime.timedelta(days=1)),  # 1-day window\n",
    "        behavior=pw.temporal.exactly_once_behavior()  # Ensure exactly-once processing\n",
    "    )\n",
    "    # Aggregate values over each window\n",
    "    .reduce(\n",
    "        t=pw.this._pw_window_end,  # Timestamp at window end\n",
    "        occ_max=pw.reducers.max(pw.this.Occupancy),   # Max occupancy in window\n",
    "        occ_min=pw.reducers.min(pw.this.Occupancy),   # Min occupancy in window\n",
    "        occ_sum=pw.reducers.sum(pw.this.Occupancy),   # Total occupancy\n",
    "        occ_count=pw.reducers.count(pw.this.Occupancy),  # Count of occupancy readings\n",
    "        cap=pw.reducers.max(pw.this.Capacity),  # Capacity (assumed constant, so take max)\n",
    "        SystemCodeNumber=pw.reducers.any(pw.this.SystemCodeNumber)  # Get any lot ID from the window\n",
    "    )\n",
    "        # Add intermediate calculated columns\n",
    "    .with_columns(\n",
    "        occ_avg=pw.this.occ_sum / pw.this.occ_count,  # Average occupancy\n",
    "        normalized_occ=(pw.this.occ_sum / pw.this.occ_count) / pw.this.cap,  # Normalized occupancy (0 to 1)\n",
    "\n",
    "    )\n",
    "    # Add pricing and debug columns\n",
    "    .with_columns(\n",
    "        price=logistic_price(pw.this.normalized_occ),  # Apply logistic pricing based on normalized occupancy\n",
    "        debug_occ=pw.this.normalized_occ  # Keep normalized occupancy for debugging/visualization\n",
    "    )\n",
    ")\n",
    "\n"
   ]
  },
  {
   "cell_type": "code",
   "execution_count": null,
   "metadata": {
    "colab": {
     "base_uri": "https://localhost:8080/",
     "height": 419
    },
    "id": "-SPTA16eXpx6",
    "outputId": "64050e80-3790-46a6-f9ea-6b90232e40d7"
   },
   "outputs": [],
   "source": [
    "import panel as pn\n",
    "import bokeh.plotting\n",
    "\n",
    "# Activate Panel's extension for interactive plots\n",
    "pn.extension()\n",
    "\n",
    "# Define a function to create a Bokeh plot for pricing data\n",
    "def price_plotter(source):\n",
    "    fig = bokeh.plotting.figure(\n",
    "        height=300,               # Height of the plot\n",
    "        width=700,                # Width of the plot\n",
    "        title=\"Pathway: Daily Parking Price\",  # Plot title\n",
    "        x_axis_type=\"datetime\"    # X-axis is time-based\n",
    "    )\n",
    "    fig.line(\"t\", \"price\", source=source, line_width=2, color=\"navy\")  # Line for price over time\n",
    "    fig.scatter(\"t\", \"price\", source=source, size=5, color=\"red\")      # Red dots for each price point\n",
    "\n",
    "    return fig\n",
    "\n",
    "# List of 14 unique parking lot IDs (manually defined)\n",
    "lot_ids = ['BHMBCCMKT01', 'BHMNCPHST01', 'BHMMBMMBX01', 'BHMNCPNST01',\n",
    "           'Shopping', 'BHMEURBRD01', 'Broad Street', 'Others-CCCPS8',\n",
    "           'Others-CCCPS105a', 'Others-CCCPS119a', 'BHMBCCTHL01',\n",
    "           'Others-CCCPS135a', 'Others-CCCPS202', 'Others-CCCPS98']\n",
    "\n",
    "# Create an empty list to store Panel tab content\n",
    "tabs = []\n",
    "\n",
    "# Loop through each lot, filter its data, and create visualizations\n",
    "for lot in lot_ids:\n",
    "    lot_data = delta_window.filter(pw.this.SystemCodeNumber == lot)  # Filter data for current lot\n",
    "    viz = lot_data.plot(price_plotter, sorting_col=\"t\")              # Plot using price_plotter\n",
    "    tabs.append((f\"Lot {lot}\", pn.Column(viz)))                      # Add plot to tab with lot name\n",
    "\n",
    "# Display all tabs in a single Panel layout\n",
    "pn.Tabs(*tabs).servable()\n"
   ]
  },
  {
   "cell_type": "code",
   "execution_count": null,
   "metadata": {
    "colab": {
     "base_uri": "https://localhost:8080/",
     "height": 34,
     "referenced_widgets": [
      "287efc4cfa174a7fbcc9d1704baa5421",
      "efcb08f0fbd84ade8df6c5dd42045b66"
     ]
    },
    "id": "q428cIl479Qt",
    "outputId": "021d648b-b69d-434f-f0f8-f02fd8af63b6"
   },
   "outputs": [],
   "source": [
    "%%capture --no-display  # Jupyter magic to suppress output and logs while running the cell\n",
    "pw.run()  # Start and run the Pathway data pipeline"
   ]
  },
  {
   "cell_type": "code",
   "execution_count": null,
   "metadata": {
    "id": "jW2yP6ryQOwO"
   },
   "outputs": [],
   "source": []
  }
 ],
 "metadata": {
  "colab": {
   "provenance": []
  },
  "kernelspec": {
   "display_name": "Python 3",
   "name": "python3"
  },
  "language_info": {
   "name": "python"
  },
  "widgets": {
   "application/vnd.jupyter.widget-state+json": {
    "287efc4cfa174a7fbcc9d1704baa5421": {
     "model_module": "@jupyter-widgets/output",
     "model_module_version": "1.0.0",
     "model_name": "OutputModel",
     "state": {
      "_dom_classes": [],
      "_model_module": "@jupyter-widgets/output",
      "_model_module_version": "1.0.0",
      "_model_name": "OutputModel",
      "_view_count": null,
      "_view_module": "@jupyter-widgets/output",
      "_view_module_version": "1.0.0",
      "_view_name": "OutputView",
      "layout": "IPY_MODEL_efcb08f0fbd84ade8df6c5dd42045b66",
      "msg_id": "",
      "outputs": [
       {
        "data": {
         "text/html": "<pre style=\"white-space:pre;overflow-x:auto;line-height:normal;font-family:Menlo,'DejaVu Sans Mono',consolas,'Courier New',monospace\">                                            PATHWAY PROGRESS DASHBOARD                                             \n                                                                                                                   \n   <span style=\"font-weight: bold\">             </span> <span style=\"font-weight: bold\">        no. </span> <span style=\"font-weight: bold\">             </span> <span style=\"font-weight: bold\">            </span>  <span style=\"font-weight: bold\">          </span> <span style=\"font-weight: bold\">  latency </span> <span style=\"font-weight: bold\">          </span> <span style=\"font-weight: bold\">          </span> <span style=\"font-weight: bold\">          </span>   \n   <span style=\"font-weight: bold\">             </span> <span style=\"font-weight: bold\">   messages </span> <span style=\"font-weight: bold\">             </span> <span style=\"font-weight: bold\">            </span>  <span style=\"font-weight: bold\">          </span> <span style=\"font-weight: bold\">  to wall </span> <span style=\"font-weight: bold\">   lag to </span> <span style=\"font-weight: bold\">          </span> <span style=\"font-weight: bold\">          </span>   \n   <span style=\"font-weight: bold\">             </span> <span style=\"font-weight: bold\">     in the </span> <span style=\"font-weight: bold\">             </span> <span style=\"font-weight: bold\">            </span>  <span style=\"font-weight: bold\">          </span> <span style=\"font-weight: bold\">    clock </span> <span style=\"font-weight: bold\">    input </span> <span style=\"font-weight: bold\">    total </span> <span style=\"font-weight: bold\">  current </span>   \n   <span style=\"font-weight: bold\">             </span> <span style=\"font-weight: bold\">       last </span> <span style=\"font-weight: bold\"> in the last </span> <span style=\"font-weight: bold\">      since </span>  <span style=\"font-weight: bold\"> operator </span> <span style=\"font-weight: bold\">     [ms] </span> <span style=\"font-weight: bold\">     [ms] </span> <span style=\"font-weight: bold\">     rows </span> <span style=\"font-weight: bold\">     rows </span>   \n   <span style=\"font-weight: bold\"> connector   </span> <span style=\"font-weight: bold\">  minibatch </span> <span style=\"font-weight: bold\">      minute </span> <span style=\"font-weight: bold\">      start </span>  ──────────────────────────────────────────────────────   \n   ─────────────────────────────────────────────────────   input      finished                                     \n    PythonRead…     finished         18366        18366    output          974       None                          \n                                                                                                                   \n                                                         <span style=\"color: #7f7f7f; text-decoration-color: #7f7f7f; font-style: italic\">   Above you can see the latency of input and output    </span>  \n                                                         <span style=\"color: #7f7f7f; text-decoration-color: #7f7f7f; font-style: italic\">  operators. The latency is measured as the difference  </span>  \n                                                         <span style=\"color: #7f7f7f; text-decoration-color: #7f7f7f; font-style: italic\"> between the time when the operator processed the data  </span>  \n                                                         <span style=\"color: #7f7f7f; text-decoration-color: #7f7f7f; font-style: italic\">      and the time when pathway acquired the data.      </span>  \n                                                                                                                   \n                                                                                                                   \n                                                                                                                   \n                                                                                                                   \n                                                                                                                   \n                                                                                                                   \n                                                                                                                   \n                                                                                                                   \n                                                                                                                   \n                                                                                                                   \n                                                                                                                   \n                                                                                                                   \n                                                                                                                   \n                                                                                                                   \n                                                                                                                   \n                                                                                                                   \n                                                                                                                   \n                                                                                                                   \n                                                                                                                   \n                                                                                                                   \n                                                                                                                   \n                                                                                                                   \n                                                                                                                   \n                                                                                                                   \n                                                                                                                   \n                                                                                                                   \n                                                                                                                   \n                                                                                                                   \n                                                                                                                   \n                                                                                                                   \n                                                                                                                   \n                                                                                                                   \n                                                                                                                   \n                                                                                                                   \n                                                                                                                   \n                                                                                                                   \n                                                       LOGS                                                        \n  <span style=\"color: #7fbfbf; text-decoration-color: #7fbfbf\">[07/06/25 16:38:13] </span><span style=\"color: #808000; text-decoration-color: #808000\">WARNING </span> PythonReader: Closing the data source                                               \n                                                                                                                   \n                                                                                                                   \n                                                                                                                   \n                                                                                                                   \n                                                                                                                   \n                                                                                                                   \n                                                                                                                   \n                                                                                                                   \n                                                                                                                   \n                                                                                                                   \n                                                                                                                   \n                                                                                                                   \n                                                                                                                   \n                                                                                                                   \n                                                                                                                   \n                                                                                                                   \n                                                                                                                   \n                                                                                                                   \n                                                                                                                   \n                                                                                                                   \n                                                                                                                   \n                                                                                                                   \n                                                                                                                   \n                                                                                                                   \n                                                                                                                   \n                                                                                                                   \n                                                                                                                   \n                                                                                                                   \n                                                                                                                   \n                                                                                                                   \n                                                                                                                   \n                                                                                                                   \n                                                                                                                   \n                                                                                                                   \n                                                                                                                   \n                                                                                                                   \n                                                                                                                   \n                                                                                                                   \n                                                                                                                   \n                                                                                                                   \n                                                                                                                   \n                                                                                                                   \n                                                                                                                   \n                                                                                                                   \n                                                                                                                   \n                                                                                                                   \n                                                                                                                   \n                                                                                                                   \n</pre>\n",
         "text/plain": "                                            PATHWAY PROGRESS DASHBOARD                                             \n                                                                                                                   \n   \u001b[1m             \u001b[0m \u001b[1m \u001b[0m\u001b[1m       no.\u001b[0m\u001b[1m \u001b[0m \u001b[1m             \u001b[0m \u001b[1m            \u001b[0m  \u001b[1m          \u001b[0m \u001b[1m \u001b[0m\u001b[1m latency\u001b[0m\u001b[1m \u001b[0m \u001b[1m          \u001b[0m \u001b[1m          \u001b[0m \u001b[1m          \u001b[0m   \n   \u001b[1m             \u001b[0m \u001b[1m \u001b[0m\u001b[1m  messages\u001b[0m\u001b[1m \u001b[0m \u001b[1m             \u001b[0m \u001b[1m            \u001b[0m  \u001b[1m          \u001b[0m \u001b[1m \u001b[0m\u001b[1m to wall\u001b[0m\u001b[1m \u001b[0m \u001b[1m \u001b[0m\u001b[1m  lag to\u001b[0m\u001b[1m \u001b[0m \u001b[1m          \u001b[0m \u001b[1m          \u001b[0m   \n   \u001b[1m             \u001b[0m \u001b[1m \u001b[0m\u001b[1m    in the\u001b[0m\u001b[1m \u001b[0m \u001b[1m             \u001b[0m \u001b[1m            \u001b[0m  \u001b[1m          \u001b[0m \u001b[1m \u001b[0m\u001b[1m   clock\u001b[0m\u001b[1m \u001b[0m \u001b[1m \u001b[0m\u001b[1m   input\u001b[0m\u001b[1m \u001b[0m \u001b[1m \u001b[0m\u001b[1m   total\u001b[0m\u001b[1m \u001b[0m \u001b[1m \u001b[0m\u001b[1m current\u001b[0m\u001b[1m \u001b[0m   \n   \u001b[1m             \u001b[0m \u001b[1m \u001b[0m\u001b[1m      last\u001b[0m\u001b[1m \u001b[0m \u001b[1m \u001b[0m\u001b[1min the last\u001b[0m\u001b[1m \u001b[0m \u001b[1m \u001b[0m\u001b[1m     since\u001b[0m\u001b[1m \u001b[0m  \u001b[1m \u001b[0m\u001b[1moperator\u001b[0m\u001b[1m \u001b[0m \u001b[1m \u001b[0m\u001b[1m    [ms]\u001b[0m\u001b[1m \u001b[0m \u001b[1m \u001b[0m\u001b[1m    [ms]\u001b[0m\u001b[1m \u001b[0m \u001b[1m \u001b[0m\u001b[1m    rows\u001b[0m\u001b[1m \u001b[0m \u001b[1m \u001b[0m\u001b[1m    rows\u001b[0m\u001b[1m \u001b[0m   \n   \u001b[1m \u001b[0m\u001b[1mconnector  \u001b[0m\u001b[1m \u001b[0m \u001b[1m \u001b[0m\u001b[1m minibatch\u001b[0m\u001b[1m \u001b[0m \u001b[1m \u001b[0m\u001b[1m     minute\u001b[0m\u001b[1m \u001b[0m \u001b[1m \u001b[0m\u001b[1m     start\u001b[0m\u001b[1m \u001b[0m  ──────────────────────────────────────────────────────   \n   ─────────────────────────────────────────────────────   input      finished                                     \n    PythonRead…     finished         18366        18366    output          974       None                          \n                                                                                                                   \n                                                         \u001b[2;3m   Above you can see the latency of input and output    \u001b[0m  \n                                                         \u001b[2;3m  operators. The latency is measured as the difference  \u001b[0m  \n                                                         \u001b[2;3m between the time when the operator processed the data  \u001b[0m  \n                                                         \u001b[2;3m      and the time when pathway acquired the data.      \u001b[0m  \n                                                                                                                   \n                                                                                                                   \n                                                                                                                   \n                                                                                                                   \n                                                                                                                   \n                                                                                                                   \n                                                                                                                   \n                                                                                                                   \n                                                                                                                   \n                                                                                                                   \n                                                                                                                   \n                                                                                                                   \n                                                                                                                   \n                                                                                                                   \n                                                                                                                   \n                                                                                                                   \n                                                                                                                   \n                                                                                                                   \n                                                                                                                   \n                                                                                                                   \n                                                                                                                   \n                                                                                                                   \n                                                                                                                   \n                                                                                                                   \n                                                                                                                   \n                                                                                                                   \n                                                                                                                   \n                                                                                                                   \n                                                                                                                   \n                                                                                                                   \n                                                                                                                   \n                                                                                                                   \n                                                                                                                   \n                                                                                                                   \n                                                                                                                   \n                                                                                                                   \n                                                       LOGS                                                        \n  \u001b[2;36m[07/06/25 16:38:13]\u001b[0m\u001b[2;36m \u001b[0m\u001b[33mWARNING \u001b[0m PythonReader: Closing the data source                                               \n                                                                                                                   \n                                                                                                                   \n                                                                                                                   \n                                                                                                                   \n                                                                                                                   \n                                                                                                                   \n                                                                                                                   \n                                                                                                                   \n                                                                                                                   \n                                                                                                                   \n                                                                                                                   \n                                                                                                                   \n                                                                                                                   \n                                                                                                                   \n                                                                                                                   \n                                                                                                                   \n                                                                                                                   \n                                                                                                                   \n                                                                                                                   \n                                                                                                                   \n                                                                                                                   \n                                                                                                                   \n                                                                                                                   \n                                                                                                                   \n                                                                                                                   \n                                                                                                                   \n                                                                                                                   \n                                                                                                                   \n                                                                                                                   \n                                                                                                                   \n                                                                                                                   \n                                                                                                                   \n                                                                                                                   \n                                                                                                                   \n                                                                                                                   \n                                                                                                                   \n                                                                                                                   \n                                                                                                                   \n                                                                                                                   \n                                                                                                                   \n                                                                                                                   \n                                                                                                                   \n                                                                                                                   \n                                                                                                                   \n                                                                                                                   \n                                                                                                                   \n                                                                                                                   \n                                                                                                                   \n"
        },
        "metadata": {},
        "output_type": "display_data"
       }
      ],
      "tabbable": null,
      "tooltip": null
     }
    },
    "efcb08f0fbd84ade8df6c5dd42045b66": {
     "model_module": "@jupyter-widgets/base",
     "model_module_version": "2.0.0",
     "model_name": "LayoutModel",
     "state": {
      "_model_module": "@jupyter-widgets/base",
      "_model_module_version": "2.0.0",
      "_model_name": "LayoutModel",
      "_view_count": null,
      "_view_module": "@jupyter-widgets/base",
      "_view_module_version": "2.0.0",
      "_view_name": "LayoutView",
      "align_content": null,
      "align_items": null,
      "align_self": null,
      "border_bottom": null,
      "border_left": null,
      "border_right": null,
      "border_top": null,
      "bottom": null,
      "display": null,
      "flex": null,
      "flex_flow": null,
      "grid_area": null,
      "grid_auto_columns": null,
      "grid_auto_flow": null,
      "grid_auto_rows": null,
      "grid_column": null,
      "grid_gap": null,
      "grid_row": null,
      "grid_template_areas": null,
      "grid_template_columns": null,
      "grid_template_rows": null,
      "height": null,
      "justify_content": null,
      "justify_items": null,
      "left": null,
      "margin": null,
      "max_height": null,
      "max_width": null,
      "min_height": null,
      "min_width": null,
      "object_fit": null,
      "object_position": null,
      "order": null,
      "overflow": null,
      "padding": null,
      "right": null,
      "top": null,
      "visibility": null,
      "width": null
     }
    }
   }
  }
 },
 "nbformat": 4,
 "nbformat_minor": 0
}
